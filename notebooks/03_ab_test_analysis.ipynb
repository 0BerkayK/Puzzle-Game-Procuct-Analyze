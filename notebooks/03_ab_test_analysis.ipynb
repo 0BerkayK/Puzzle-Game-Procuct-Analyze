{
 "cells": [
  {
   "cell_type": "code",
   "execution_count": 1,
   "id": "2024c821-573f-4e19-89c5-aa2fbb203d10",
   "metadata": {},
   "outputs": [],
   "source": [
    "import pandas as pd\n",
    "import numpy as np\n",
    "import matplotlib.pyplot as plt\n",
    "import seaborn as sns\n",
    "from scipy import stats"
   ]
  },
  {
   "cell_type": "code",
   "execution_count": 2,
   "id": "1307347c-d268-4c12-9fb7-bc865515bd36",
   "metadata": {},
   "outputs": [],
   "source": [
    "data = pd.read_csv(\"../data/cookie_cats.csv\")"
   ]
  },
  {
   "cell_type": "code",
   "execution_count": 3,
   "id": "d17510ef-279a-4a21-850b-1b04ebb6526f",
   "metadata": {},
   "outputs": [
    {
     "data": {
      "text/html": [
       "<div>\n",
       "<style scoped>\n",
       "    .dataframe tbody tr th:only-of-type {\n",
       "        vertical-align: middle;\n",
       "    }\n",
       "\n",
       "    .dataframe tbody tr th {\n",
       "        vertical-align: top;\n",
       "    }\n",
       "\n",
       "    .dataframe thead th {\n",
       "        text-align: right;\n",
       "    }\n",
       "</style>\n",
       "<table border=\"1\" class=\"dataframe\">\n",
       "  <thead>\n",
       "    <tr style=\"text-align: right;\">\n",
       "      <th></th>\n",
       "      <th>userid</th>\n",
       "      <th>version</th>\n",
       "      <th>sum_gamerounds</th>\n",
       "      <th>retention_1</th>\n",
       "      <th>retention_7</th>\n",
       "    </tr>\n",
       "  </thead>\n",
       "  <tbody>\n",
       "    <tr>\n",
       "      <th>0</th>\n",
       "      <td>116</td>\n",
       "      <td>gate_30</td>\n",
       "      <td>3</td>\n",
       "      <td>False</td>\n",
       "      <td>False</td>\n",
       "    </tr>\n",
       "    <tr>\n",
       "      <th>1</th>\n",
       "      <td>337</td>\n",
       "      <td>gate_30</td>\n",
       "      <td>38</td>\n",
       "      <td>True</td>\n",
       "      <td>False</td>\n",
       "    </tr>\n",
       "    <tr>\n",
       "      <th>2</th>\n",
       "      <td>377</td>\n",
       "      <td>gate_40</td>\n",
       "      <td>165</td>\n",
       "      <td>True</td>\n",
       "      <td>False</td>\n",
       "    </tr>\n",
       "    <tr>\n",
       "      <th>3</th>\n",
       "      <td>483</td>\n",
       "      <td>gate_40</td>\n",
       "      <td>1</td>\n",
       "      <td>False</td>\n",
       "      <td>False</td>\n",
       "    </tr>\n",
       "    <tr>\n",
       "      <th>4</th>\n",
       "      <td>488</td>\n",
       "      <td>gate_40</td>\n",
       "      <td>179</td>\n",
       "      <td>True</td>\n",
       "      <td>True</td>\n",
       "    </tr>\n",
       "    <tr>\n",
       "      <th>...</th>\n",
       "      <td>...</td>\n",
       "      <td>...</td>\n",
       "      <td>...</td>\n",
       "      <td>...</td>\n",
       "      <td>...</td>\n",
       "    </tr>\n",
       "    <tr>\n",
       "      <th>90184</th>\n",
       "      <td>9999441</td>\n",
       "      <td>gate_40</td>\n",
       "      <td>97</td>\n",
       "      <td>True</td>\n",
       "      <td>False</td>\n",
       "    </tr>\n",
       "    <tr>\n",
       "      <th>90185</th>\n",
       "      <td>9999479</td>\n",
       "      <td>gate_40</td>\n",
       "      <td>30</td>\n",
       "      <td>False</td>\n",
       "      <td>False</td>\n",
       "    </tr>\n",
       "    <tr>\n",
       "      <th>90186</th>\n",
       "      <td>9999710</td>\n",
       "      <td>gate_30</td>\n",
       "      <td>28</td>\n",
       "      <td>True</td>\n",
       "      <td>False</td>\n",
       "    </tr>\n",
       "    <tr>\n",
       "      <th>90187</th>\n",
       "      <td>9999768</td>\n",
       "      <td>gate_40</td>\n",
       "      <td>51</td>\n",
       "      <td>True</td>\n",
       "      <td>False</td>\n",
       "    </tr>\n",
       "    <tr>\n",
       "      <th>90188</th>\n",
       "      <td>9999861</td>\n",
       "      <td>gate_40</td>\n",
       "      <td>16</td>\n",
       "      <td>False</td>\n",
       "      <td>False</td>\n",
       "    </tr>\n",
       "  </tbody>\n",
       "</table>\n",
       "<p>90189 rows × 5 columns</p>\n",
       "</div>"
      ],
      "text/plain": [
       "        userid  version  sum_gamerounds  retention_1  retention_7\n",
       "0          116  gate_30               3        False        False\n",
       "1          337  gate_30              38         True        False\n",
       "2          377  gate_40             165         True        False\n",
       "3          483  gate_40               1        False        False\n",
       "4          488  gate_40             179         True         True\n",
       "...        ...      ...             ...          ...          ...\n",
       "90184  9999441  gate_40              97         True        False\n",
       "90185  9999479  gate_40              30        False        False\n",
       "90186  9999710  gate_30              28         True        False\n",
       "90187  9999768  gate_40              51         True        False\n",
       "90188  9999861  gate_40              16        False        False\n",
       "\n",
       "[90189 rows x 5 columns]"
      ]
     },
     "execution_count": 3,
     "metadata": {},
     "output_type": "execute_result"
    }
   ],
   "source": [
    "data"
   ]
  },
  {
   "cell_type": "code",
   "execution_count": 4,
   "id": "a5d12f47-6a9c-4f6a-b225-5e9fc3f57188",
   "metadata": {},
   "outputs": [],
   "source": [
    "# Grupları ayırma (gate_30 vs gate_40)\n",
    "group_30 = data[data[\"version\"] == \"gate_30\"]\n",
    "group_40 = data[data[\"version\"] == \"gate_40\"]"
   ]
  },
  {
   "cell_type": "code",
   "execution_count": 5,
   "id": "efab1664-0709-4914-8339-de495d95a515",
   "metadata": {},
   "outputs": [
    {
     "name": "stdout",
     "output_type": "stream",
     "text": [
      "Group sizes: 44700 45489\n"
     ]
    }
   ],
   "source": [
    "print(\"Group sizes:\", len(group_30), len(group_40))"
   ]
  },
  {
   "cell_type": "code",
   "execution_count": 8,
   "id": "ca7e1f14-f532-4002-9049-f5da4a66b9f0",
   "metadata": {},
   "outputs": [],
   "source": [
    "# Ortalama retention değerleri\n",
    "\n",
    "ret1_30 = group_30[\"retention_1\"].mean()\n",
    "ret1_40 = group_40[\"retention_1\"].mean()\n",
    "\n",
    "ret7_30 = group_30[\"retention_7\"].mean()\n",
    "ret7_40 = group_40[\"retention_7\"].mean()"
   ]
  },
  {
   "cell_type": "code",
   "execution_count": 9,
   "id": "78b7dc35-91db-4b04-8bda-280f2b28fb82",
   "metadata": {},
   "outputs": [
    {
     "name": "stdout",
     "output_type": "stream",
     "text": [
      "Retention 1d - gate_30: 0.4481879194630872 gate_40: 0.44228274967574577\n",
      "Retention 7d - gate_30: 0.19020134228187918 gate_40: 0.18200004396667327\n"
     ]
    }
   ],
   "source": [
    "print(\"Retention 1d - gate_30:\", ret1_30, \"gate_40:\", ret1_40)\n",
    "print(\"Retention 7d - gate_30:\", ret7_30, \"gate_40:\", ret7_40)"
   ]
  },
  {
   "cell_type": "markdown",
   "id": "ec334e0b-52c5-4a0a-8c41-ddce793166e4",
   "metadata": {},
   "source": [
    "### İstatistiksel Test"
   ]
  },
  {
   "cell_type": "markdown",
   "id": "f1132c7b-385f-4ec0-802d-48d2d1e844ec",
   "metadata": {},
   "source": [
    "#### t-test"
   ]
  },
  {
   "cell_type": "code",
   "execution_count": 12,
   "id": "89e22571-f28b-44e8-9c8f-8aa63bad76fa",
   "metadata": {},
   "outputs": [],
   "source": [
    "tstat_1, pval_1 = stats.ttest_ind(group_30[\"retention_1\"], group_40[\"retention_1\"])\n",
    "tstat_7, pval_7 = stats.ttest_ind(group_30[\"retention_7\"], group_40[\"retention_7\"])"
   ]
  },
  {
   "cell_type": "code",
   "execution_count": 13,
   "id": "87740f9c-1621-4b4b-b121-7f3b5b2349c6",
   "metadata": {},
   "outputs": [
    {
     "name": "stdout",
     "output_type": "stream",
     "text": [
      "Day1 retention t-test p-value: 0.07441111525563184\n",
      "Day7 retention t-test p-value: 0.0015540151201088365\n"
     ]
    }
   ],
   "source": [
    "print(\"Day1 retention t-test p-value:\", pval_1)\n",
    "print(\"Day7 retention t-test p-value:\", pval_7)"
   ]
  },
  {
   "cell_type": "markdown",
   "id": "bb4d6327-6899-4211-b33d-e3f1d0f86b46",
   "metadata": {},
   "source": [
    "#### Görselleştirme"
   ]
  },
  {
   "cell_type": "code",
   "execution_count": 15,
   "id": "a934cb39-c7c6-4b90-b072-8aaf1a8ac952",
   "metadata": {},
   "outputs": [
    {
     "data": {
      "image/png": "[encoded data removed]",
      "text/plain": [
       "<Figure size 1200x500 with 2 Axes>"
      ]
     },
     "metadata": {},
     "output_type": "display_data"
    }
   ],
   "source": [
    "fig, ax = plt.subplots(1, 2, figsize=(12,5))\n",
    "\n",
    "sns.barplot(x=\"version\", y=\"retention_1\", data=data, errorbar=('ci', 95), ax=ax[0])\n",
    "ax[0].set_title(\"Day 1 Retention by Group\")\n",
    "\n",
    "sns.barplot(x=\"version\", y=\"retention_7\", data=data, errorbar=('ci', 95), ax=ax[1])\n",
    "ax[1].set_title(\"Day 7 Retention by Group\")\n",
    "\n",
    "plt.show()"
   ]
  },
  {
   "cell_type": "code",
   "execution_count": 25,
   "id": "3dc1f826-acc8-4f3a-9f93-044be38bc855",
   "metadata": {},
   "outputs": [
    {
     "name": "stdout",
     "output_type": "stream",
     "text": [
      "1. gün retention farkı istatistiksel olarak anlamlı değildir.\n"
     ]
    }
   ],
   "source": [
    "if pval_1 < 0.05:\n",
    "    print(\"1. gün retention farkı istatistiksel olarak anlamlıdır.\")\n",
    "else:\n",
    "    print(\"1. gün retention farkı istatistiksel olarak anlamlı değildir.\")"
   ]
  },
  {
   "cell_type": "code",
   "execution_count": 26,
   "id": "a973c91b-7c20-43f0-a2d6-f1d1703ac6c3",
   "metadata": {},
   "outputs": [
    {
     "name": "stdout",
     "output_type": "stream",
     "text": [
      "7. gün retention farkı istatistiksel olarak anlamlıdır.\n"
     ]
    }
   ],
   "source": [
    "if pval_7 < 0.05:\n",
    "    print(\"7. gün retention farkı istatistiksel olarak anlamlıdır.\")\n",
    "else:\n",
    "    print(\"7. gün retention farkı istatistiksel olarak anlamlı değildir.\")"
   ]
  },
  {
   "cell_type": "code",
   "execution_count": null,
   "id": "65e1e0f6-7d9a-48f6-99dd-3cc5401bc965",
   "metadata": {},
   "outputs": [],
   "source": []
  }
 ],
 "metadata": {
  "kernelspec": {
   "display_name": "Python 3 (ipykernel)",
   "language": "python",
   "name": "python3"
  },
  "language_info": {
   "codemirror_mode": {
    "name": "ipython",
    "version": 3
   },
   "file_extension": ".py",
   "mimetype": "text/x-python",
   "name": "python",
   "nbconvert_exporter": "python",
   "pygments_lexer": "ipython3",
   "version": "3.12.7"
  }
 },
 "nbformat": 4,
 "nbformat_minor": 5
}
