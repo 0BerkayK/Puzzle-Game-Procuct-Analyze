{
 "cells": [
  {
   "cell_type": "code",
   "execution_count": 1,
   "id": "64692bf5-1b40-4457-a925-0bba14216ac0",
   "metadata": {},
   "outputs": [],
   "source": [
    "import pandas as pd\n",
    "import numpy as np"
   ]
  },
  {
   "cell_type": "code",
   "execution_count": 2,
   "id": "2b3741c4-a453-46a2-a5bc-53271e8c69fa",
   "metadata": {},
   "outputs": [
    {
     "name": "stdout",
     "output_type": "stream",
     "text": [
      "   userid  version  sum_gamerounds  retention_1  retention_7\n",
      "0     116  gate_30               3        False        False\n",
      "1     337  gate_30              38         True        False\n",
      "2     377  gate_40             165         True        False\n",
      "3     483  gate_40               1        False        False\n",
      "4     488  gate_40             179         True         True\n"
     ]
    }
   ],
   "source": [
    "data = pd.read_csv(\"../data/cookie_cats.csv\")\n",
    "print(data.head())"
   ]
  },
  {
   "cell_type": "code",
   "execution_count": 11,
   "id": "a7b4d745-e1bd-41a3-b7dc-599d531ff93a",
   "metadata": {},
   "outputs": [],
   "source": [
    "# Retention değerlerini boolean -> int dönüşümü yapamamız lazım\n",
    "data['retention_1'] = data['retention_1'].astype(int)\n",
    "data['retention_7'] = data['retention_7'].astype(int)"
   ]
  },
  {
   "cell_type": "code",
   "execution_count": 12,
   "id": "885b0337-e759-464b-8a6f-06f1d2bc119a",
   "metadata": {},
   "outputs": [
    {
     "data": {
      "text/html": [
       "<div>\n",
       "<style scoped>\n",
       "    .dataframe tbody tr th:only-of-type {\n",
       "        vertical-align: middle;\n",
       "    }\n",
       "\n",
       "    .dataframe tbody tr th {\n",
       "        vertical-align: top;\n",
       "    }\n",
       "\n",
       "    .dataframe thead th {\n",
       "        text-align: right;\n",
       "    }\n",
       "</style>\n",
       "<table border=\"1\" class=\"dataframe\">\n",
       "  <thead>\n",
       "    <tr style=\"text-align: right;\">\n",
       "      <th></th>\n",
       "      <th>userid</th>\n",
       "      <th>version</th>\n",
       "      <th>sum_gamerounds</th>\n",
       "      <th>retention_1</th>\n",
       "      <th>retention_7</th>\n",
       "    </tr>\n",
       "  </thead>\n",
       "  <tbody>\n",
       "    <tr>\n",
       "      <th>0</th>\n",
       "      <td>116</td>\n",
       "      <td>gate_30</td>\n",
       "      <td>3</td>\n",
       "      <td>0</td>\n",
       "      <td>0</td>\n",
       "    </tr>\n",
       "    <tr>\n",
       "      <th>1</th>\n",
       "      <td>337</td>\n",
       "      <td>gate_30</td>\n",
       "      <td>38</td>\n",
       "      <td>1</td>\n",
       "      <td>0</td>\n",
       "    </tr>\n",
       "    <tr>\n",
       "      <th>2</th>\n",
       "      <td>377</td>\n",
       "      <td>gate_40</td>\n",
       "      <td>165</td>\n",
       "      <td>1</td>\n",
       "      <td>0</td>\n",
       "    </tr>\n",
       "    <tr>\n",
       "      <th>3</th>\n",
       "      <td>483</td>\n",
       "      <td>gate_40</td>\n",
       "      <td>1</td>\n",
       "      <td>0</td>\n",
       "      <td>0</td>\n",
       "    </tr>\n",
       "    <tr>\n",
       "      <th>4</th>\n",
       "      <td>488</td>\n",
       "      <td>gate_40</td>\n",
       "      <td>179</td>\n",
       "      <td>1</td>\n",
       "      <td>1</td>\n",
       "    </tr>\n",
       "    <tr>\n",
       "      <th>...</th>\n",
       "      <td>...</td>\n",
       "      <td>...</td>\n",
       "      <td>...</td>\n",
       "      <td>...</td>\n",
       "      <td>...</td>\n",
       "    </tr>\n",
       "    <tr>\n",
       "      <th>90184</th>\n",
       "      <td>9999441</td>\n",
       "      <td>gate_40</td>\n",
       "      <td>97</td>\n",
       "      <td>1</td>\n",
       "      <td>0</td>\n",
       "    </tr>\n",
       "    <tr>\n",
       "      <th>90185</th>\n",
       "      <td>9999479</td>\n",
       "      <td>gate_40</td>\n",
       "      <td>30</td>\n",
       "      <td>0</td>\n",
       "      <td>0</td>\n",
       "    </tr>\n",
       "    <tr>\n",
       "      <th>90186</th>\n",
       "      <td>9999710</td>\n",
       "      <td>gate_30</td>\n",
       "      <td>28</td>\n",
       "      <td>1</td>\n",
       "      <td>0</td>\n",
       "    </tr>\n",
       "    <tr>\n",
       "      <th>90187</th>\n",
       "      <td>9999768</td>\n",
       "      <td>gate_40</td>\n",
       "      <td>51</td>\n",
       "      <td>1</td>\n",
       "      <td>0</td>\n",
       "    </tr>\n",
       "    <tr>\n",
       "      <th>90188</th>\n",
       "      <td>9999861</td>\n",
       "      <td>gate_40</td>\n",
       "      <td>16</td>\n",
       "      <td>0</td>\n",
       "      <td>0</td>\n",
       "    </tr>\n",
       "  </tbody>\n",
       "</table>\n",
       "<p>90189 rows × 5 columns</p>\n",
       "</div>"
      ],
      "text/plain": [
       "        userid  version  sum_gamerounds  retention_1  retention_7\n",
       "0          116  gate_30               3            0            0\n",
       "1          337  gate_30              38            1            0\n",
       "2          377  gate_40             165            1            0\n",
       "3          483  gate_40               1            0            0\n",
       "4          488  gate_40             179            1            1\n",
       "...        ...      ...             ...          ...          ...\n",
       "90184  9999441  gate_40              97            1            0\n",
       "90185  9999479  gate_40              30            0            0\n",
       "90186  9999710  gate_30              28            1            0\n",
       "90187  9999768  gate_40              51            1            0\n",
       "90188  9999861  gate_40              16            0            0\n",
       "\n",
       "[90189 rows x 5 columns]"
      ]
     },
     "execution_count": 12,
     "metadata": {},
     "output_type": "execute_result"
    }
   ],
   "source": [
    "data"
   ]
  },
  {
   "cell_type": "markdown",
   "id": "62e10c0a-2a74-4dbc-93a1-db23e8087a66",
   "metadata": {},
   "source": [
    "### Basit QA Testleri"
   ]
  },
  {
   "cell_type": "code",
   "execution_count": 14,
   "id": "7e8a6510-8b02-4da9-8115-645b883ac80a",
   "metadata": {},
   "outputs": [
    {
     "name": "stdout",
     "output_type": "stream",
     "text": [
      "Retention değerleri doğru aralıkta ✅\n"
     ]
    }
   ],
   "source": [
    "# Retention değerleri 0-1 aralığında mı?\n",
    "if data['retention_1'].isin([0,1]).all() and data['retention_7'].isin([0,1]).all():\n",
    "    print(\"Retention değerleri doğru aralıkta ✅\")\n",
    "else:\n",
    "    print(\"Retention değerlerinde hata\")"
   ]
  },
  {
   "cell_type": "code",
   "execution_count": 16,
   "id": "87521659-e814-46f6-b07d-9d892275581b",
   "metadata": {},
   "outputs": [
    {
     "name": "stdout",
     "output_type": "stream",
     "text": [
      "Varyant dağılımı:\n",
      " version\n",
      "gate_40    45489\n",
      "gate_30    44700\n",
      "Name: count, dtype: int64\n"
     ]
    }
   ],
   "source": [
    "# A/B Test varyantlarının dağılımı (kontrol)\n",
    "group_counts = data['version'].value_counts()\n",
    "print(\"Varyant dağılımı:\\n\", group_counts)"
   ]
  },
  {
   "cell_type": "code",
   "execution_count": 17,
   "id": "54a8f4ff-f6a3-4862-ad98-4289d3f34a19",
   "metadata": {},
   "outputs": [
    {
     "name": "stdout",
     "output_type": "stream",
     "text": [
      "7-day retention by 7-day bonus:\n",
      " bonus_7day\n",
      "0    0.186071\n",
      "1    0.186058\n",
      "Name: retention_7, dtype: float64\n"
     ]
    }
   ],
   "source": [
    "# Feature logic QA örneği\n",
    "# 7-gün bonus feature \n",
    "if 'bonus_7day' not in data.columns:\n",
    "    np.random.seed(42)\n",
    "    data['bonus_7day'] = np.random.choice([0,1], size=len(data))\n",
    "\n",
    "bonus_mean = data.groupby('bonus_7day')['retention_7'].mean()\n",
    "print(\"7-day retention by 7-day bonus:\\n\", bonus_mean)\n",
    "\n"
   ]
  },
  {
   "cell_type": "code",
   "execution_count": 19,
   "id": "2d47d0de-3e57-40fb-a3b1-0a0ecca7e52d",
   "metadata": {},
   "outputs": [
    {
     "name": "stdout",
     "output_type": "stream",
     "text": [
      "7-day bonus feature logic kontrol edilmeli ⚠️\n"
     ]
    }
   ],
   "source": [
    "# Yorum\n",
    "\n",
    "if bonus_mean[1] > bonus_mean[0]:\n",
    "    print(\"7-day bonus feature mantığı doğru, retention artırıyor ✅\")\n",
    "else:\n",
    "    print(\"7-day bonus feature logic kontrol edilmeli ⚠️\")"
   ]
  },
  {
   "cell_type": "code",
   "execution_count": 20,
   "id": "165ce7f7-f894-4c9c-9fd9-f2ca0132868e",
   "metadata": {},
   "outputs": [
    {
     "name": "stdout",
     "output_type": "stream",
     "text": [
      "\n",
      "# QA Checklist\n",
      "- [x] Retention değerleri 0-1 aralığında\n",
      "- [x] Boolean -> numeric dönüşümleri yapıldı\n",
      "- [x] A/B test varyantları eşit dağılımda\n",
      "- [x] 7-gün bonus feature retention üzerine etkisi kontrol edildi\n",
      "- [ ] Diğer feature logic testleri eklenecek\n",
      "\n"
     ]
    }
   ],
   "source": [
    "# QA Checklist (Markdown)\n",
    "qa_checklist = \"\"\"\n",
    "# QA Checklist\n",
    "- [x] Retention değerleri 0-1 aralığında\n",
    "- [x] Boolean -> numeric dönüşümleri yapıldı\n",
    "- [x] A/B test varyantları eşit dağılımda\n",
    "- [x] 7-gün bonus feature retention üzerine etkisi kontrol edildi\n",
    "- [ ] Diğer feature logic testleri eklenecek\n",
    "\"\"\"\n",
    "print(qa_checklist)"
   ]
  },
  {
   "cell_type": "code",
   "execution_count": null,
   "id": "7b4b696c-ba06-42ca-b704-9dcf7b40d4d5",
   "metadata": {},
   "outputs": [],
   "source": []
  }
 ],
 "metadata": {
  "kernelspec": {
   "display_name": "Python 3 (ipykernel)",
   "language": "python",
   "name": "python3"
  },
  "language_info": {
   "codemirror_mode": {
    "name": "ipython",
    "version": 3
   },
   "file_extension": ".py",
   "mimetype": "text/x-python",
   "name": "python",
   "nbconvert_exporter": "python",
   "pygments_lexer": "ipython3",
   "version": "3.12.7"
  }
 },
 "nbformat": 4,
 "nbformat_minor": 5
}
